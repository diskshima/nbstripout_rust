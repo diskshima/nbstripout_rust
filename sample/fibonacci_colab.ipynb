{
  "cells" : [
    {
      "cell_type" : "code",
      "execution_count" : null,
      "metadata" : {

      },
      "outputs" : [

      ],
      "source" : [
        "def fib(n):\n",
        "    if n <= 2:\n",
        "        return n\n",
        "    return fib(n - 1) + fib(n - 2)"
      ]
    },
    {
      "cell_type" : "code",
      "execution_count" : null,
      "metadata" : {

      },
      "outputs" : [

      ],
      "source" : [
        "[fib(x) for x in range(1, 10)]"
      ]
    },
    {
      "cell_type" : "code",
      "execution_count" : null,
      "metadata" : {

      },
      "outputs" : [

      ],
      "source" : [
        ""
      ]
    }
  ],
  "metadata" : {
    "accelerator" : "TPU",
    "colab" : {
      "collapsed_sections" : [

      ],
      "name" : "fib.ipynb",
      "provenance" : [

      ]
    },
    "kernelspec" : {
      "display_name" : "Python 3",
      "name" : "python3"
    }
  },
  "nbformat" : 4,
  "nbformat_minor" : 0
}
